{
 "cells": [
  {
   "cell_type": "code",
   "execution_count": 1,
   "id": "1e41ae4d-6320-4889-80fd-bafa9e47adc9",
   "metadata": {},
   "outputs": [
    {
     "data": {
      "application/javascript": [
       "IPython.notebook.set_autosave_interval(0)"
      ]
     },
     "metadata": {},
     "output_type": "display_data"
    },
    {
     "name": "stdout",
     "output_type": "stream",
     "text": [
      "Autosave disabled\n"
     ]
    }
   ],
   "source": [
    "%autosave 0"
   ]
  },
  {
   "cell_type": "code",
   "execution_count": 2,
   "id": "f503562c-967a-4f0a-a521-814dd9f73d08",
   "metadata": {},
   "outputs": [],
   "source": [
    "import requests"
   ]
  },
  {
   "cell_type": "code",
   "execution_count": 3,
   "id": "b1b2e0bb-db1b-41b9-9309-73bc32e57027",
   "metadata": {},
   "outputs": [],
   "source": [
    "url = 'http://localhost:9696/predict'"
   ]
  },
  {
   "cell_type": "code",
   "execution_count": 8,
   "id": "c6ea8f93-e0cd-4e8b-b7ae-59db33870f5b",
   "metadata": {},
   "outputs": [],
   "source": [
    "customer = {\n",
    "  \"job\": \"management\", \n",
    "  \"duration\": 400, \n",
    "  \"poutcome\": \"success\"\n",
    "}"
   ]
  },
  {
   "cell_type": "code",
   "execution_count": 11,
   "id": "c01d5294-ed5e-4ab1-98fc-1913c1124064",
   "metadata": {},
   "outputs": [
    {
     "data": {
      "text/plain": [
       "{'client': True, 'y_pred': 0.7590966516879658}"
      ]
     },
     "execution_count": 11,
     "metadata": {},
     "output_type": "execute_result"
    }
   ],
   "source": [
    "requests.post(url, json=customer).json()"
   ]
  },
  {
   "cell_type": "code",
   "execution_count": 13,
   "id": "ee7f9601-558a-4033-b461-7e7eb24cbc5b",
   "metadata": {},
   "outputs": [
    {
     "data": {
      "text/plain": [
       "{'client': False, 'y_pred': 0.33480703475511053}"
      ]
     },
     "execution_count": 13,
     "metadata": {},
     "output_type": "execute_result"
    }
   ],
   "source": [
    "client = {\"job\": \"student\", \"duration\": 280, \"poutcome\": \"failure\"}\n",
    "requests.post(url, json=client).json()"
   ]
  },
  {
   "cell_type": "code",
   "execution_count": 6,
   "id": "7bdb08f9-749d-4e20-8aa7-574e8bcb8838",
   "metadata": {},
   "outputs": [
    {
     "data": {
      "text/plain": [
       "{'client': True, 'y_pred': 0.7590966516879658}"
      ]
     },
     "execution_count": 6,
     "metadata": {},
     "output_type": "execute_result"
    }
   ],
   "source": [
    "client = {\"job\": \"management\", \"duration\": 400, \"poutcome\": \"success\"}\n",
    "requests.post(url, json=client).json()"
   ]
  },
  {
   "cell_type": "code",
   "execution_count": null,
   "id": "feb735ac-f73f-4fae-b208-c4b1bbbb2da8",
   "metadata": {},
   "outputs": [],
   "source": []
  }
 ],
 "metadata": {
  "kernelspec": {
   "display_name": "Python 3 (ipykernel)",
   "language": "python",
   "name": "python3"
  },
  "language_info": {
   "codemirror_mode": {
    "name": "ipython",
    "version": 3
   },
   "file_extension": ".py",
   "mimetype": "text/x-python",
   "name": "python",
   "nbconvert_exporter": "python",
   "pygments_lexer": "ipython3",
   "version": "3.10.15"
  }
 },
 "nbformat": 4,
 "nbformat_minor": 5
}
